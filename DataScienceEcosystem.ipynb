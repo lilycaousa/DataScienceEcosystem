{
 "cells": [
  {
   "cell_type": "markdown",
   "id": "0fd8b483-32ca-4da3-ae2a-270e104354c0",
   "metadata": {},
   "source": [
    "# Data Science Tools and Ecosystem"
   ]
  },
  {
   "cell_type": "markdown",
   "id": "91a876b6-4af3-413b-aaec-ec045c847520",
   "metadata": {},
   "source": [
    "In this notebook, Data Science Tools and Ecosystem are summarized."
   ]
  },
  {
   "cell_type": "markdown",
   "id": "e48610c6-8a61-4f93-b6d6-c6148f388454",
   "metadata": {},
   "source": [
    "Some of the popular languages that Data Scientists use are:"
   ]
  },
  {
   "cell_type": "markdown",
   "id": "5a90c3ae-1adf-4483-bc53-34433346164c",
   "metadata": {},
   "source": [
    "1. Python\n",
    "2. R \n",
    "3. \r\n",
    "SQL"
   ]
  },
  {
   "cell_type": "markdown",
   "id": "72414ae4-27e0-49a8-beda-170c8e89dab6",
   "metadata": {},
   "source": [
    "Some of the commonly used libraries used by Data Scientists include:"
   ]
  },
  {
   "cell_type": "markdown",
   "id": "2419c843-3a99-493d-bdcc-1b192d789545",
   "metadata": {},
   "source": [
    "1. Pandas\n",
    "2. \n",
    "NumP\n",
    "3. \r\n",
    "Matplotlib"
   ]
  },
  {
   "cell_type": "markdown",
   "id": "503f5a62-e0fc-420c-acd9-9ef16beb5d1e",
   "metadata": {},
   "source": [
    "|Data Science Tools|\n",
    "|---|\n",
    "|MongoDB|\n",
    "|Apache SparkSQL|\n",
    "|TensorFlow|"
   ]
  },
  {
   "cell_type": "markdown",
   "id": "260cad9d-eb0c-4eca-83bf-b254f020088b",
   "metadata": {},
   "source": [
    "### Below are a few examples of evaluating arithmetic expressions in Python."
   ]
  },
  {
   "cell_type": "code",
   "execution_count": 50,
   "id": "f35a4112-d884-4579-b4eb-65cee144e0a9",
   "metadata": {},
   "outputs": [],
   "source": [
    "## This a simple arithmetic expression to mutiply then add integers"
   ]
  },
  {
   "cell_type": "code",
   "execution_count": 48,
   "id": "7e6c456d-5cf0-4b77-ac5f-2ff4dcd70642",
   "metadata": {},
   "outputs": [
    {
     "data": {
      "text/plain": [
       "17"
      ]
     },
     "execution_count": 48,
     "metadata": {},
     "output_type": "execute_result"
    }
   ],
   "source": [
    "(3*4)+5"
   ]
  },
  {
   "cell_type": "code",
   "execution_count": 52,
   "id": "61d461e3-8bd6-4a16-a431-b6b903d7cd47",
   "metadata": {},
   "outputs": [],
   "source": [
    "## This will convert 200 minutes to hours by diving by 60"
   ]
  },
  {
   "cell_type": "code",
   "execution_count": 56,
   "id": "ad40da7e-830f-4655-8cc8-03b6c02d68dd",
   "metadata": {},
   "outputs": [
    {
     "data": {
      "text/plain": [
       "3.3333333333333335"
      ]
     },
     "execution_count": 56,
     "metadata": {},
     "output_type": "execute_result"
    }
   ],
   "source": [
    "200/60"
   ]
  },
  {
   "cell_type": "markdown",
   "id": "bc5ce466-2513-48c9-9bb2-8ed3f9a10ec6",
   "metadata": {},
   "source": [
    "Objectives:\n",
    "- Python\n",
    "- R\n",
    "- SQL"
   ]
  },
  {
   "cell_type": "markdown",
   "id": "37c60e8f-95d0-4698-88ef-c37c5ad9eb2e",
   "metadata": {},
   "source": [
    "## Author "
   ]
  },
  {
   "cell_type": "markdown",
   "id": "2af42cf5-68d2-4ee8-916f-f567e2946511",
   "metadata": {},
   "source": [
    "Lily Cao "
   ]
  },
  {
   "cell_type": "code",
   "execution_count": null,
   "id": "59fe2134-3d3a-42da-9cf5-87d50ae4aa54",
   "metadata": {},
   "outputs": [],
   "source": []
  }
 ],
 "metadata": {
  "kernelspec": {
   "display_name": "Python 3 (ipykernel)",
   "language": "python",
   "name": "python3"
  },
  "language_info": {
   "codemirror_mode": {
    "name": "ipython",
    "version": 3
   },
   "file_extension": ".py",
   "mimetype": "text/x-python",
   "name": "python",
   "nbconvert_exporter": "python",
   "pygments_lexer": "ipython3",
   "version": "3.11.7"
  }
 },
 "nbformat": 4,
 "nbformat_minor": 5
}
